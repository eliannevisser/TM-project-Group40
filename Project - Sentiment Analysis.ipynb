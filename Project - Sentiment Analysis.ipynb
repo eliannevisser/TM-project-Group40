{
 "cells": [
  {
   "cell_type": "code",
   "execution_count": 1,
   "id": "99aebaa2",
   "metadata": {},
   "outputs": [],
   "source": [
    "import pathlib\n",
    "import sklearn\n",
    "import numpy\n",
    "import nltk\n",
    "import pandas as pd\n",
    "from nltk.corpus import stopwords\n",
    "from collections import Counter\n",
    "from sklearn.feature_extraction.text import CountVectorizer\n",
    "from sklearn.feature_extraction.text import TfidfTransformer\n",
    "import spacy\n",
    "nlp = spacy.load('en_core_web_sm')\n",
    "from sklearn import metrics\n",
    "from sklearn.naive_bayes import MultinomialNB\n",
    "from sklearn.metrics import classification_report"
   ]
  },
  {
   "cell_type": "code",
   "execution_count": 18,
   "id": "f8405a9a",
   "metadata": {},
   "outputs": [
    {
     "data": {
      "text/html": [
       "<div>\n",
       "<style scoped>\n",
       "    .dataframe tbody tr th:only-of-type {\n",
       "        vertical-align: middle;\n",
       "    }\n",
       "\n",
       "    .dataframe tbody tr th {\n",
       "        vertical-align: top;\n",
       "    }\n",
       "\n",
       "    .dataframe thead th {\n",
       "        text-align: right;\n",
       "    }\n",
       "</style>\n",
       "<table border=\"1\" class=\"dataframe\">\n",
       "  <thead>\n",
       "    <tr style=\"text-align: right;\">\n",
       "      <th></th>\n",
       "      <th>ID</th>\n",
       "      <th>text</th>\n",
       "      <th>sentiment</th>\n",
       "      <th>topic</th>\n",
       "    </tr>\n",
       "  </thead>\n",
       "  <tbody>\n",
       "    <tr>\n",
       "      <th>0</th>\n",
       "      <td>1</td>\n",
       "      <td>A tasty masala .</td>\n",
       "      <td>positive</td>\n",
       "      <td>movie</td>\n",
       "    </tr>\n",
       "    <tr>\n",
       "      <th>1</th>\n",
       "      <td>2</td>\n",
       "      <td>unnoticed</td>\n",
       "      <td>negative</td>\n",
       "      <td>movie</td>\n",
       "    </tr>\n",
       "    <tr>\n",
       "      <th>2</th>\n",
       "      <td>3</td>\n",
       "      <td>exists only</td>\n",
       "      <td>neutral</td>\n",
       "      <td>movie</td>\n",
       "    </tr>\n",
       "    <tr>\n",
       "      <th>3</th>\n",
       "      <td>4</td>\n",
       "      <td>unstinting</td>\n",
       "      <td>negative</td>\n",
       "      <td>movie</td>\n",
       "    </tr>\n",
       "    <tr>\n",
       "      <th>4</th>\n",
       "      <td>5</td>\n",
       "      <td>of the funniest jokes of any movie</td>\n",
       "      <td>positive</td>\n",
       "      <td>movie</td>\n",
       "    </tr>\n",
       "  </tbody>\n",
       "</table>\n",
       "</div>"
      ],
      "text/plain": [
       "   ID                                text sentiment  topic\n",
       "0   1                    A tasty masala .  positive  movie\n",
       "1   2                           unnoticed  negative  movie\n",
       "2   3                         exists only   neutral  movie\n",
       "3   4                          unstinting  negative  movie\n",
       "4   5  of the funniest jokes of any movie  positive  movie"
      ]
     },
     "execution_count": 18,
     "metadata": {},
     "output_type": "execute_result"
    }
   ],
   "source": [
    "train_df = pd.read_csv('final-data-extended.csv', delimiter=';')\n",
    "train_df.head()"
   ]
  },
  {
   "cell_type": "code",
   "execution_count": 3,
   "id": "54d1fff7",
   "metadata": {},
   "outputs": [
    {
     "data": {
      "text/html": [
       "<div>\n",
       "<style scoped>\n",
       "    .dataframe tbody tr th:only-of-type {\n",
       "        vertical-align: middle;\n",
       "    }\n",
       "\n",
       "    .dataframe tbody tr th {\n",
       "        vertical-align: top;\n",
       "    }\n",
       "\n",
       "    .dataframe thead th {\n",
       "        text-align: right;\n",
       "    }\n",
       "</style>\n",
       "<table border=\"1\" class=\"dataframe\">\n",
       "  <thead>\n",
       "    <tr style=\"text-align: right;\">\n",
       "      <th></th>\n",
       "      <th>sentence id</th>\n",
       "      <th>text</th>\n",
       "      <th>sentiment</th>\n",
       "      <th>topic</th>\n",
       "    </tr>\n",
       "  </thead>\n",
       "  <tbody>\n",
       "    <tr>\n",
       "      <th>0</th>\n",
       "      <td>0</td>\n",
       "      <td>It took eight years for Warner Brothers to rec...</td>\n",
       "      <td>negative</td>\n",
       "      <td>movie</td>\n",
       "    </tr>\n",
       "    <tr>\n",
       "      <th>1</th>\n",
       "      <td>1</td>\n",
       "      <td>All the New York University students love this...</td>\n",
       "      <td>positive</td>\n",
       "      <td>restaurant</td>\n",
       "    </tr>\n",
       "    <tr>\n",
       "      <th>2</th>\n",
       "      <td>2</td>\n",
       "      <td>This Italian place is really trendy but they h...</td>\n",
       "      <td>negative</td>\n",
       "      <td>restaurant</td>\n",
       "    </tr>\n",
       "    <tr>\n",
       "      <th>3</th>\n",
       "      <td>3</td>\n",
       "      <td>In conclusion, my review of this book would be...</td>\n",
       "      <td>positive</td>\n",
       "      <td>book</td>\n",
       "    </tr>\n",
       "    <tr>\n",
       "      <th>4</th>\n",
       "      <td>4</td>\n",
       "      <td>The story of this movie is focused on Carl Bra...</td>\n",
       "      <td>neutral</td>\n",
       "      <td>movie</td>\n",
       "    </tr>\n",
       "  </tbody>\n",
       "</table>\n",
       "</div>"
      ],
      "text/plain": [
       "   sentence id                                               text sentiment  \\\n",
       "0            0  It took eight years for Warner Brothers to rec...  negative   \n",
       "1            1  All the New York University students love this...  positive   \n",
       "2            2  This Italian place is really trendy but they h...  negative   \n",
       "3            3  In conclusion, my review of this book would be...  positive   \n",
       "4            4  The story of this movie is focused on Carl Bra...   neutral   \n",
       "\n",
       "        topic  \n",
       "0       movie  \n",
       "1  restaurant  \n",
       "2  restaurant  \n",
       "3        book  \n",
       "4       movie  "
      ]
     },
     "execution_count": 3,
     "metadata": {},
     "output_type": "execute_result"
    }
   ],
   "source": [
    "test_df = pd.read_csv('sentiment-topic-final-test.tsv', delimiter='\\t')\n",
    "test_df.head()"
   ]
  },
  {
   "cell_type": "code",
   "execution_count": 4,
   "id": "df994e85",
   "metadata": {},
   "outputs": [],
   "source": [
    "sentences_train = []\n",
    "sentences_test = []\n",
    "gold_labels_train = []\n",
    "gold_labels_test = []\n",
    "\n",
    "for sentence in train_df['text']:\n",
    "    sentences_train.append(sentence)\n",
    "\n",
    "for sentiment in train_df['sentiment']:\n",
    "    gold_labels_train.append(sentiment)\n",
    "    \n",
    "for sentence in test_df['text']:\n",
    "    sentences_test.append(sentence)\n",
    "\n",
    "for sentiment in test_df['sentiment']:\n",
    "    gold_labels_test.append(sentiment)   \n"
   ]
  },
  {
   "cell_type": "code",
   "execution_count": 15,
   "id": "e8ee483d",
   "metadata": {},
   "outputs": [],
   "source": [
    "def main(train_data, train_gold, test_data, test_gold):\n",
    "    \n",
    "    # loading all files as training data.\n",
    "    text_vec = CountVectorizer(min_df=3, # If a token appears fewer times than this, across all documents, it will be ignored\n",
    "                                 tokenizer=nltk.word_tokenize)\n",
    "    \n",
    "    # Bag of Words representation\n",
    "    text_counts_train = text_vec.fit_transform(train_data)\n",
    "    text_counts_test = text_vec.transform(test_data)\n",
    "    \n",
    "\n",
    "    # Convert raw frequency counts into TF-IDF values\n",
    "    tfidf_transformer = TfidfTransformer()\n",
    "    text_tfidf_train = tfidf_transformer.fit_transform(text_counts_train)\n",
    "    text_tfidf_test = tfidf_transformer.fit_transform(text_counts_test)\n",
    "        \n",
    "    # Train a Multimoda Naive Bayes classifier\n",
    "    clf = MultinomialNB().fit(text_tfidf_train, train_gold)\n",
    "\n",
    "    # Predicting the Test set results, find macro recall\n",
    "    y_pred = clf.predict(text_tfidf_test)\n",
    "\n",
    "    report = classification_report(test_gold,y_pred,digits = 3)    \n",
    "    print(report)\n",
    "    print(test_gold, y_pred)"
   ]
  },
  {
   "cell_type": "code",
   "execution_count": 16,
   "id": "c106ab92",
   "metadata": {},
   "outputs": [
    {
     "name": "stderr",
     "output_type": "stream",
     "text": [
      "C:\\Users\\Elianne\\anaconda3\\lib\\site-packages\\sklearn\\feature_extraction\\text.py:528: UserWarning: The parameter 'token_pattern' will not be used since 'tokenizer' is not None'\n",
      "  warnings.warn(\n"
     ]
    },
    {
     "name": "stdout",
     "output_type": "stream",
     "text": [
      "              precision    recall  f1-score   support\n",
      "\n",
      "    negative      0.500     0.333     0.400         3\n",
      "     neutral      0.600     1.000     0.750         3\n",
      "    positive      1.000     0.750     0.857         4\n",
      "\n",
      "    accuracy                          0.700        10\n",
      "   macro avg      0.700     0.694     0.669        10\n",
      "weighted avg      0.730     0.700     0.688        10\n",
      "\n",
      "['negative', 'positive', 'negative', 'positive', 'neutral', 'neutral', 'positive', 'positive', 'neutral', 'negative'] ['negative' 'positive' 'neutral' 'negative' 'neutral' 'neutral' 'positive'\n",
      " 'positive' 'neutral' 'neutral']\n"
     ]
    }
   ],
   "source": [
    "main(sentences_train, gold_labels_train, sentences_test, gold_labels_test)"
   ]
  }
 ],
 "metadata": {
  "kernelspec": {
   "display_name": "Python 3 (ipykernel)",
   "language": "python",
   "name": "python3"
  },
  "language_info": {
   "codemirror_mode": {
    "name": "ipython",
    "version": 3
   },
   "file_extension": ".py",
   "mimetype": "text/x-python",
   "name": "python",
   "nbconvert_exporter": "python",
   "pygments_lexer": "ipython3",
   "version": "3.9.13"
  }
 },
 "nbformat": 4,
 "nbformat_minor": 5
}
